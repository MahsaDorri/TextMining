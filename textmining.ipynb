{
 "cells": [
  {
   "cell_type": "code",
   "execution_count": 40,
   "metadata": {},
   "outputs": [
    {
     "name": "stderr",
     "output_type": "stream",
     "text": [
      "[nltk_data] Downloading package punkt to\n",
      "[nltk_data]     /Users/mahsadorri/nltk_data...\n",
      "[nltk_data]   Package punkt is already up-to-date!\n",
      "[nltk_data] Downloading package averaged_perceptron_tagger to\n",
      "[nltk_data]     /Users/mahsadorri/nltk_data...\n",
      "[nltk_data]   Package averaged_perceptron_tagger is already up-to-\n",
      "[nltk_data]       date!\n",
      "[nltk_data] Downloading package maxent_ne_chunker to\n",
      "[nltk_data]     /Users/mahsadorri/nltk_data...\n",
      "[nltk_data]   Package maxent_ne_chunker is already up-to-date!\n",
      "[nltk_data] Downloading package words to\n",
      "[nltk_data]     /Users/mahsadorri/nltk_data...\n",
      "[nltk_data]   Package words is already up-to-date!\n",
      "[nltk_data] Downloading package vader_lexicon to\n",
      "[nltk_data]     /Users/mahsadorri/nltk_data...\n",
      "[nltk_data]   Package vader_lexicon is already up-to-date!\n"
     ]
    },
    {
     "data": {
      "text/plain": [
       "True"
      ]
     },
     "execution_count": 40,
     "metadata": {},
     "output_type": "execute_result"
    }
   ],
   "source": [
    "import pandas as pd\n",
    "import numpy as np \n",
    "import matplotlib.pyplot as plt\n",
    "import seaborn as sns\n",
    "import nltk\n",
    "import zipfile\n",
    "from nltk.sentiment import SentimentIntensityAnalyzer\n",
    "from tqdm.notebook import tqdm\n",
    "\n",
    "\n",
    "# Set plot style\n",
    "plt.style.use('ggplot')\n",
    "\n",
    "# Download necessary NLTK data\n",
    "nltk.download('punkt')\n",
    "nltk.download('averaged_perceptron_tagger')\n",
    "nltk.download('maxent_ne_chunker')\n",
    "nltk.download('words')\n",
    "nltk.download('vader_lexicon')\n",
    "\n",
    "\n"
   ]
  },
  {
   "cell_type": "code",
   "execution_count": 41,
   "metadata": {},
   "outputs": [
    {
     "name": "stdout",
     "output_type": "stream",
     "text": [
      "(3600000, 3)\n"
     ]
    }
   ],
   "source": [
    "\n",
    "# Load the dataset from a zipped CSV file\n",
    "with zipfile.ZipFile('/Users/mahsadorri/Downloads/train.csv.zip', 'r') as z:\n",
    "    with z.open('train.csv') as f:\n",
    "        df = pd.read_csv(f, header=None, names=['polarity', 'title', 'review'])\n",
    "        print(df.shape)\n"
   ]
  },
  {
   "cell_type": "code",
   "execution_count": 42,
   "metadata": {},
   "outputs": [
    {
     "name": "stdout",
     "output_type": "stream",
     "text": [
      "(300, 3)\n"
     ]
    }
   ],
   "source": [
    "df = df.head(300)\n",
    "print(df.shape)\n"
   ]
  },
  {
   "cell_type": "code",
   "execution_count": 43,
   "metadata": {},
   "outputs": [
    {
     "name": "stdout",
     "output_type": "stream",
     "text": [
      "Index(['polarity', 'title', 'review'], dtype='object')\n"
     ]
    }
   ],
   "source": [
    "print(df.columns)"
   ]
  },
  {
   "cell_type": "code",
   "execution_count": 44,
   "metadata": {},
   "outputs": [
    {
     "name": "stdout",
     "output_type": "stream",
     "text": [
      "   polarity                                              title  \\\n",
      "0         2                     Stuning even for the non-gamer   \n",
      "1         2              The best soundtrack ever to anything.   \n",
      "2         2                                           Amazing!   \n",
      "3         2                               Excellent Soundtrack   \n",
      "4         2  Remember, Pull Your Jaw Off The Floor After He...   \n",
      "\n",
      "                                              review  \n",
      "0  This sound track was beautiful! It paints the ...  \n",
      "1  I'm reading a lot of reviews saying that this ...  \n",
      "2  This soundtrack is my favorite music of all ti...  \n",
      "3  I truly like this soundtrack and I enjoy video...  \n",
      "4  If you've played the game, you know how divine...  \n"
     ]
    }
   ],
   "source": [
    "# Display the first few rows \n",
    "print(df.head())"
   ]
  },
  {
   "attachments": {},
   "cell_type": "markdown",
   "metadata": {},
   "source": [
    "### Tokenization is the process of splitting text into individual words or tokens. This is the first step in text preprocessing, allowing further analysis like part-of-speech tagging and named entity recognition."
   ]
  },
  {
   "cell_type": "code",
   "execution_count": 45,
   "metadata": {},
   "outputs": [
    {
     "name": "stdout",
     "output_type": "stream",
     "text": [
      "Original review: This sound track was beautiful! It paints the senery in your mind so well I would recomend it even to people who hate vid. game music! I have played the game Chrono Cross but out of all of the games I have ever played it has the best music! It backs away from crude keyboarding and takes a fresher step with grate guitars and soulful orchestras. It would impress anyone who cares to listen! ^_^\n",
      "Tokens: ['This', 'sound', 'track', 'was', 'beautiful', '!', 'It', 'paints', 'the', 'senery']\n"
     ]
    }
   ],
   "source": [
    "\n",
    "example_review = df['review'].iloc[0]\n",
    "print(\"Original review:\", example_review)\n",
    "\n",
    "tokens = nltk.word_tokenize(example_review)\n",
    "print(\"Tokens:\", tokens[:10])"
   ]
  },
  {
   "attachments": {},
   "cell_type": "markdown",
   "metadata": {},
   "source": [
    "### POS tagging assigns a part of speech to each token, such as noun, verb, adjective, etc. This helps in understanding the role of each word in the sentence structure."
   ]
  },
  {
   "cell_type": "code",
   "execution_count": 46,
   "metadata": {},
   "outputs": [
    {
     "name": "stdout",
     "output_type": "stream",
     "text": [
      "POS Tags: [('This', 'DT'), ('sound', 'NN'), ('track', 'NN'), ('was', 'VBD'), ('beautiful', 'JJ'), ('!', '.'), ('It', 'PRP'), ('paints', 'VBZ'), ('the', 'DT'), ('senery', 'NN')]\n"
     ]
    }
   ],
   "source": [
    "tagged = nltk.pos_tag(tokens)\n",
    "print(\"POS Tags:\", tagged[:10])"
   ]
  },
  {
   "attachments": {},
   "cell_type": "markdown",
   "metadata": {},
   "source": [
    "### NER helps in extracting significant entities from the text, which is useful in various applications like information retrieval, question answering, and summarization.\n"
   ]
  },
  {
   "cell_type": "code",
   "execution_count": 47,
   "metadata": {},
   "outputs": [
    {
     "name": "stdout",
     "output_type": "stream",
     "text": [
      "Named Entities:\n",
      "(S\n",
      "  This/DT\n",
      "  sound/NN\n",
      "  track/NN\n",
      "  was/VBD\n",
      "  beautiful/JJ\n",
      "  !/.\n",
      "  It/PRP\n",
      "  paints/VBZ\n",
      "  the/DT\n",
      "  senery/NN\n",
      "  in/IN\n",
      "  your/PRP$\n",
      "  mind/NN\n",
      "  so/RB\n",
      "  well/RB\n",
      "  I/PRP\n",
      "  would/MD\n",
      "  recomend/VB\n",
      "  it/PRP\n",
      "  even/RB\n",
      "  to/TO\n",
      "  people/NNS\n",
      "  who/WP\n",
      "  hate/VBP\n",
      "  vid/NNS\n",
      "  ./.\n",
      "  game/NN\n",
      "  music/NN\n",
      "  !/.\n",
      "  I/PRP\n",
      "  have/VBP\n",
      "  played/VBN\n",
      "  the/DT\n",
      "  game/NN\n",
      "  (PERSON Chrono/NNP Cross/NNP)\n",
      "  but/CC\n",
      "  out/IN\n",
      "  of/IN\n",
      "  all/DT\n",
      "  of/IN\n",
      "  the/DT\n",
      "  games/NNS\n",
      "  I/PRP\n",
      "  have/VBP\n",
      "  ever/RB\n",
      "  played/VBN\n",
      "  it/PRP\n",
      "  has/VBZ\n",
      "  the/DT\n",
      "  best/JJS\n",
      "  music/NN\n",
      "  !/.\n",
      "  It/PRP\n",
      "  backs/VBZ\n",
      "  away/RB\n",
      "  from/IN\n",
      "  crude/NN\n",
      "  keyboarding/NN\n",
      "  and/CC\n",
      "  takes/VBZ\n",
      "  a/DT\n",
      "  fresher/JJ\n",
      "  step/NN\n",
      "  with/IN\n",
      "  grate/JJ\n",
      "  guitars/NNS\n",
      "  and/CC\n",
      "  soulful/JJ\n",
      "  orchestras/NNS\n",
      "  ./.\n",
      "  It/PRP\n",
      "  would/MD\n",
      "  impress/VB\n",
      "  anyone/NN\n",
      "  who/WP\n",
      "  cares/VBZ\n",
      "  to/TO\n",
      "  listen/VB\n",
      "  !/.\n",
      "  ^_^/NN)\n"
     ]
    }
   ],
   "source": [
    "entities = nltk.chunk.ne_chunk(tagged)\n",
    "print(\"Named Entities:\")\n",
    "entities.pprint()"
   ]
  },
  {
   "cell_type": "code",
   "execution_count": 48,
   "metadata": {},
   "outputs": [],
   "source": [
    "sia = SentimentIntensityAnalyzer()"
   ]
  },
  {
   "cell_type": "code",
   "execution_count": 49,
   "metadata": {},
   "outputs": [
    {
     "data": {
      "text/html": [
       "<div>\n",
       "<style scoped>\n",
       "    .dataframe tbody tr th:only-of-type {\n",
       "        vertical-align: middle;\n",
       "    }\n",
       "\n",
       "    .dataframe tbody tr th {\n",
       "        vertical-align: top;\n",
       "    }\n",
       "\n",
       "    .dataframe thead th {\n",
       "        text-align: right;\n",
       "    }\n",
       "</style>\n",
       "<table border=\"1\" class=\"dataframe\">\n",
       "  <thead>\n",
       "    <tr style=\"text-align: right;\">\n",
       "      <th></th>\n",
       "      <th>polarity</th>\n",
       "      <th>title</th>\n",
       "      <th>review</th>\n",
       "    </tr>\n",
       "  </thead>\n",
       "  <tbody>\n",
       "    <tr>\n",
       "      <th>0</th>\n",
       "      <td>2</td>\n",
       "      <td>Stuning even for the non-gamer</td>\n",
       "      <td>This sound track was beautiful! It paints the ...</td>\n",
       "    </tr>\n",
       "    <tr>\n",
       "      <th>1</th>\n",
       "      <td>2</td>\n",
       "      <td>The best soundtrack ever to anything.</td>\n",
       "      <td>I'm reading a lot of reviews saying that this ...</td>\n",
       "    </tr>\n",
       "    <tr>\n",
       "      <th>2</th>\n",
       "      <td>2</td>\n",
       "      <td>Amazing!</td>\n",
       "      <td>This soundtrack is my favorite music of all ti...</td>\n",
       "    </tr>\n",
       "    <tr>\n",
       "      <th>3</th>\n",
       "      <td>2</td>\n",
       "      <td>Excellent Soundtrack</td>\n",
       "      <td>I truly like this soundtrack and I enjoy video...</td>\n",
       "    </tr>\n",
       "    <tr>\n",
       "      <th>4</th>\n",
       "      <td>2</td>\n",
       "      <td>Remember, Pull Your Jaw Off The Floor After He...</td>\n",
       "      <td>If you've played the game, you know how divine...</td>\n",
       "    </tr>\n",
       "    <tr>\n",
       "      <th>...</th>\n",
       "      <td>...</td>\n",
       "      <td>...</td>\n",
       "      <td>...</td>\n",
       "    </tr>\n",
       "    <tr>\n",
       "      <th>295</th>\n",
       "      <td>2</td>\n",
       "      <td>classic</td>\n",
       "      <td>most underrated rap group, when lil wayne actu...</td>\n",
       "    </tr>\n",
       "    <tr>\n",
       "      <th>296</th>\n",
       "      <td>2</td>\n",
       "      <td>NO, NOT 5 STARZ 6 STARZ!</td>\n",
       "      <td>this album hea is just \"too hot\". this album i...</td>\n",
       "    </tr>\n",
       "    <tr>\n",
       "      <th>297</th>\n",
       "      <td>1</td>\n",
       "      <td>THIS IS A ONE COMPARED TO JUVENILEZ 400 DEGREEZ</td>\n",
       "      <td>ALL I WILL SAY IS THIS WAS A GREAT RELEASE WHE...</td>\n",
       "    </tr>\n",
       "    <tr>\n",
       "      <th>298</th>\n",
       "      <td>1</td>\n",
       "      <td>The worst rap I ever Heard</td>\n",
       "      <td>This is what is in the dictionary under wack. ...</td>\n",
       "    </tr>\n",
       "    <tr>\n",
       "      <th>299</th>\n",
       "      <td>2</td>\n",
       "      <td>super hot</td>\n",
       "      <td>lil wayne and turk set the whole cd off the un...</td>\n",
       "    </tr>\n",
       "  </tbody>\n",
       "</table>\n",
       "<p>300 rows × 3 columns</p>\n",
       "</div>"
      ],
      "text/plain": [
       "     polarity                                              title  \\\n",
       "0           2                     Stuning even for the non-gamer   \n",
       "1           2              The best soundtrack ever to anything.   \n",
       "2           2                                           Amazing!   \n",
       "3           2                               Excellent Soundtrack   \n",
       "4           2  Remember, Pull Your Jaw Off The Floor After He...   \n",
       "..        ...                                                ...   \n",
       "295         2                                            classic   \n",
       "296         2                           NO, NOT 5 STARZ 6 STARZ!   \n",
       "297         1    THIS IS A ONE COMPARED TO JUVENILEZ 400 DEGREEZ   \n",
       "298         1                         The worst rap I ever Heard   \n",
       "299         2                                          super hot   \n",
       "\n",
       "                                                review  \n",
       "0    This sound track was beautiful! It paints the ...  \n",
       "1    I'm reading a lot of reviews saying that this ...  \n",
       "2    This soundtrack is my favorite music of all ti...  \n",
       "3    I truly like this soundtrack and I enjoy video...  \n",
       "4    If you've played the game, you know how divine...  \n",
       "..                                                 ...  \n",
       "295  most underrated rap group, when lil wayne actu...  \n",
       "296  this album hea is just \"too hot\". this album i...  \n",
       "297  ALL I WILL SAY IS THIS WAS A GREAT RELEASE WHE...  \n",
       "298  This is what is in the dictionary under wack. ...  \n",
       "299  lil wayne and turk set the whole cd off the un...  \n",
       "\n",
       "[300 rows x 3 columns]"
      ]
     },
     "execution_count": 49,
     "metadata": {},
     "output_type": "execute_result"
    }
   ],
   "source": [
    "df"
   ]
  },
  {
   "attachments": {},
   "cell_type": "markdown",
   "metadata": {},
   "source": [
    "### now we want to use polarity score for whole our taset "
   ]
  },
  {
   "attachments": {},
   "cell_type": "markdown",
   "metadata": {},
   "source": [
    "### What SentimentIntensityAnalyzer Does\n",
    "Lexicon-Based Analysis:\n",
    "\n",
    "VADER uses a predefined list of words (lexicon) where each word is associated with a sentiment intensity score. These scores range from -4 (most negative) to +4 (most positive).\n",
    "Context Awareness:\n",
    "\n",
    "VADER not only looks at individual words but also considers the context. For example, it can handle negations (e.g., \"not good\"), intensifiers (e.g., \"very good\"), and other contextual clues that affect sentiment.\n",
    "Compound Score:\n",
    "\n",
    "The SentimentIntensityAnalyzer calculates four sentiment scores for a given text: neg, neu, pos, and compound.\n",
    "neg: Negative sentiment score.\n",
    "neu: Neutral sentiment score.\n",
    "pos: Positive sentiment score.\n",
    "compound: The overall sentiment score that combines the three to give a final sentiment intensity score, ranging from -1 (most negative) to +1 (most positive)."
   ]
  },
  {
   "cell_type": "code",
   "execution_count": 57,
   "metadata": {},
   "outputs": [
    {
     "data": {
      "application/vnd.jupyter.widget-view+json": {
       "model_id": "05427f09d6024e14bdff5b5f65919a00",
       "version_major": 2,
       "version_minor": 0
      },
      "text/plain": [
       "  0%|          | 0/300 [00:00<?, ?it/s]"
      ]
     },
     "metadata": {},
     "output_type": "display_data"
    },
    {
     "name": "stdout",
     "output_type": "stream",
     "text": [
      "  Id    neg    neu    pos  compound  polarity  \\\n",
      "0  0  0.088  0.669  0.243    0.9454         2   \n",
      "1  1  0.018  0.837  0.145    0.8957         2   \n",
      "2  2  0.040  0.692  0.268    0.9858         2   \n",
      "3  3  0.090  0.615  0.295    0.9814         2   \n",
      "4  4  0.000  0.746  0.254    0.9781         2   \n",
      "\n",
      "                                               title  \\\n",
      "0                     Stuning even for the non-gamer   \n",
      "1              The best soundtrack ever to anything.   \n",
      "2                                           Amazing!   \n",
      "3                               Excellent Soundtrack   \n",
      "4  Remember, Pull Your Jaw Off The Floor After He...   \n",
      "\n",
      "                                              review  \n",
      "0  This sound track was beautiful! It paints the ...  \n",
      "1  I'm reading a lot of reviews saying that this ...  \n",
      "2  This soundtrack is my favorite music of all ti...  \n",
      "3  I truly like this soundtrack and I enjoy video...  \n",
      "4  If you've played the game, you know how divine...  \n"
     ]
    }
   ],
   "source": [
    "# Dictionary to store the results\n",
    "res = {}\n",
    "\n",
    "# Apply sentiment analysis to each review, combining title and review text\n",
    "for i, row in tqdm(df.iterrows(), total=len(df)):\n",
    "    combined_text = f\"{row['title']}. {row['review']}\"\n",
    "    myid = row.name\n",
    "    res[myid] = sia.polarity_scores(combined_text)\n",
    "\n",
    "# Convert the results to a DataFrame\n",
    "vaders = pd.DataFrame(res).T\n",
    "\n",
    "# Reset the index and rename it to 'Id'\n",
    "vaders = vaders.reset_index().rename(columns={'index': 'Id'})\n",
    "\n",
    "# Ensure 'Id' is unique and convert to string\n",
    "vaders['Id'] = vaders['Id'].astype(str)\n",
    "df['Id'] = df.index.astype(str)\n",
    "\n",
    "# Merge the sentiment DataFrame with the original DataFrame, including all original columns\n",
    "vaders_merged = vaders.merge(df, how='left', on='Id', suffixes=('_sentiment', '_original'))\n",
    "\n",
    "# Display the first few rows of the merged DataFrame\n",
    "print(vaders_merged.head())\n"
   ]
  },
  {
   "attachments": {},
   "cell_type": "markdown",
   "metadata": {},
   "source": [
    "### What is the Compound Score?\n",
    "Definition:\n",
    "The compound score is a metric that calculates the sum of all the lexicon ratings for the text, normalized between -1 (most extreme negative) and +1 (most extreme positive).\n",
    "\n",
    "Calculation:\n",
    "VADER assigns sentiment intensity scores to words in the text based on a predefined lexicon. The compound score is the sum of these individual sentiment scores, which is then normalized to ensure it lies between -1 and +1. This normalization is done using a formula that scales the sum of the sentiment scores to fit within this range.\n",
    "\n",
    "Why Use the Compound Score?\n",
    "Overall Sentiment:\n",
    "The compound score provides an overall sentiment score for the text, making it easy to understand the general sentiment (positive, neutral, or negative) at a glance.\n",
    "\n",
    "Interpretation:\n",
    "\n",
    "Positive: Compound score > 0\n",
    "Neutral: Compound score ≈ 0\n",
    "Negative: Compound score < 0\n",
    "\n",
    "Individual Scores:\n",
    "\n",
    "\"absolutely\" and \"fantastic\" contribute positive sentiment.\n",
    "\"loved\" also adds to the positive sentiment.\n",
    "Compound Score Calculation:\n",
    "\n",
    "VADER sums the sentiment scores of these words and then normalizes the result to produce a compound score close to +1, indicating a highly positive sentiment."
   ]
  },
  {
   "cell_type": "code",
   "execution_count": 58,
   "metadata": {},
   "outputs": [
    {
     "name": "stdout",
     "output_type": "stream",
     "text": [
      "Index(['Id', 'neg', 'neu', 'pos', 'compound'], dtype='object')\n"
     ]
    }
   ],
   "source": [
    "print(vaders.columns)\n"
   ]
  },
  {
   "attachments": {},
   "cell_type": "markdown",
   "metadata": {},
   "source": [
    "\n",
    "\n",
    "\n",
    "### Plot VADER Result "
   ]
  },
  {
   "cell_type": "code",
   "execution_count": 60,
   "metadata": {},
   "outputs": [
    {
     "data": {
      "image/png": "[encoded data removed]",
      "text/plain": [
       "<Figure size 640x480 with 1 Axes>"
      ]
     },
     "metadata": {},
     "output_type": "display_data"
    }
   ],
   "source": [
    "ax = sns.barplot(data= vaders_merged, x='polarity', y='compound')\n",
    "ax.set_title('compound polarity')\n",
    "plt.show()"
   ]
  },
  {
   "cell_type": "code",
   "execution_count": 62,
   "metadata": {},
   "outputs": [
    {
     "data": {
      "image/png": "[encoded data removed]",
      "text/plain": [
       "<Figure size 1200x300 with 3 Axes>"
      ]
     },
     "metadata": {},
     "output_type": "display_data"
    }
   ],
   "source": [
    "fig, axs = plt.subplots(1, 3, figsize=(12, 3))\n",
    "sns.barplot(data=vaders_merged, x='polarity', y='pos', ax=axs[0])\n",
    "sns.barplot(data=vaders_merged, x='polarity', y='neu', ax=axs[1])\n",
    "sns.barplot(data=vaders_merged, x='polarity', y='neg', ax=axs[2])\n",
    "axs[0].set_title('Positive')\n",
    "axs[1].set_title('Neutral')\n",
    "axs[2].set_title('Negative')\n",
    "plt.tight_layout()\n",
    "plt.show()"
   ]
  }
 ],
 "metadata": {
  "kernelspec": {
   "display_name": "base",
   "language": "python",
   "name": "python3"
  },
  "language_info": {
   "codemirror_mode": {
    "name": "ipython",
    "version": 3
   },
   "file_extension": ".py",
   "mimetype": "text/x-python",
   "name": "python",
   "nbconvert_exporter": "python",
   "pygments_lexer": "ipython3",
   "version": "3.10.9"
  },
  "orig_nbformat": 4
 },
 "nbformat": 4,
 "nbformat_minor": 2
}
